{
 "cells": [
  {
   "cell_type": "markdown",
   "metadata": {},
   "source": [
    "# And,  or, not operators"
   ]
  },
  {
   "cell_type": "code",
   "execution_count": 19,
   "metadata": {},
   "outputs": [
    {
     "name": "stdout",
     "output_type": "stream",
     "text": [
      " It is HOT day 🥵 \n",
      " The weather is SUNNY ☀️ \n"
     ]
    }
   ],
   "source": [
    "tem=25\n",
    "is_raining=True\n",
    "if tem>20 and tem<30 and is_raining:\n",
    "    print(\" It is HOT day 🥵 \\n The weather is SUNNY ☀️ \")\n",
    "elif 10<tem<=15 and is_raining:\n",
    "    print(\" It is WARMD day\\n The weather is SUNNY ☀️\")\n",
    "else:\n",
    "    print(\" It is COLD day\\n The weather is CLOUDY ☁️ \")"
   ]
  },
  {
   "cell_type": "code",
   "execution_count": 32,
   "metadata": {},
   "outputs": [
    {
     "name": "stdout",
     "output_type": "stream",
     "text": [
      " It is COLD day 🥶 \n",
      " The weather is SNOWING 🌨️ \n"
     ]
    }
   ],
   "source": [
    "tem=-5\n",
    "is_raining=False\n",
    "if  tem>25 or is_raining:\n",
    "    print(\" It is HOT day 🥵 \\n The weather is SUNNY ☀️ \")\n",
    "elif tem<0  or  is_raining:\n",
    "    print(\" It is COLD day 🥶 \\n The weather is SNOWING 🌨️ \")\n",
    "else:\n",
    "    print(\" It is WARMD day\\n The weather is SUNNY ☀️\")"
   ]
  },
  {
   "cell_type": "code",
   "execution_count": 5,
   "metadata": {},
   "outputs": [
    {
     "name": "stdout",
     "output_type": "stream",
     "text": [
      " It is WARMD day😎\n",
      " The weather is SUNNY ☀️\n"
     ]
    }
   ],
   "source": [
    "tem=15\n",
    "is_snowing=False\n",
    "if  tem>25 and not is_snowing:\n",
    "    print(\" It is HOT day 🥵 \\n The weather is SUNNY ☀️ \")\n",
    "elif tem<=20 and not is_snowing:\n",
    "    print(\" It is WARMD day😎\\n The weather is SUNNY ☀️\")\n",
    "else:\n",
    "    print(\" It is COLD day 🥶 \\n The weather is SNOWING 🌨️\")"
   ]
  }
 ],
 "metadata": {
  "kernelspec": {
   "display_name": "Python 3",
   "language": "python",
   "name": "python3"
  },
  "language_info": {
   "codemirror_mode": {
    "name": "ipython",
    "version": 3
   },
   "file_extension": ".py",
   "mimetype": "text/x-python",
   "name": "python",
   "nbconvert_exporter": "python",
   "pygments_lexer": "ipython3",
   "version": "3.12.0"
  }
 },
 "nbformat": 4,
 "nbformat_minor": 2
}
