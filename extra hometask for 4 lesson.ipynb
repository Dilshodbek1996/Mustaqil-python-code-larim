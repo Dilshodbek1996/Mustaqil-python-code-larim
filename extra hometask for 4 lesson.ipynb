{
 "cells": [
  {
   "cell_type": "code",
   "execution_count": 3,
   "metadata": {},
   "outputs": [
    {
     "name": "stdout",
     "output_type": "stream",
     "text": [
      "True\n"
     ]
    }
   ],
   "source": [
    "# 2 ta int berilganda va oxirgi raqamlari bir xil bo'lsa ekranga True chiqaring\n",
    "\n",
    "a=int(input(\"Enter the first number:  \"))\n",
    "b=int(input(\"Enter the second number:  \"))\n",
    "if a%10==b%10:\n",
    "    print(True)\n",
    "else:\n",
    "    print(False)\n"
   ]
  },
  {
   "cell_type": "code",
   "execution_count": 8,
   "metadata": {},
   "outputs": [
    {
     "name": "stdout",
     "output_type": "stream",
     "text": [
      "Siz kritgan uch xonali son: 989\n",
      "Ushbu uch xonali sonning raqamlari yig'indisi: 26 \n"
     ]
    }
   ],
   "source": [
    "# berilgan istalgan 3 xonali sonning raqamlari yig'indisini tiping\n",
    "\n",
    "c=int(input(\" Ixtiyoriy uch xonali sonni kriting:  \"))\n",
    "if 100<=abs(c)<=999:\n",
    "    d=c%10+c//10%10+c//100\n",
    "    print(f\"Siz kritgan uch xonali son: {c}\\nUshbu uch xonali sonning raqamlari yig'indisi: {d} \")\n",
    "else:\n",
    "    print(\"Iltimos faqat uch xonali sonni kriting\")\n"
   ]
  },
  {
   "cell_type": "code",
   "execution_count": 22,
   "metadata": {},
   "outputs": [
    {
     "name": "stdout",
     "output_type": "stream",
     "text": [
      "Siz kritgan ildiz ostidagi son: 1024\n",
      "Ildizning darajasi: 10\n",
      "Ildiz ostidan chiqqan son: 2.0\n"
     ]
    }
   ],
   "source": [
    "# Berilgan sonning berilgan ildizini toping\n",
    "\n",
    "m=int(input(\"Ildiz ostidagi sonni kriting: \"))\n",
    "n=int(input(\"Nechanchi darajali  ildiz ekanligini kriting: \"))\n",
    "k=pow(m,1/n)\n",
    "print(f\"Siz kritgan ildiz ostidagi son: {m}\\nIldizning darajasi: {n}\\nIldiz ostidan chiqqan son: {k}\")\n"
   ]
  },
  {
   "cell_type": "code",
   "execution_count": 1,
   "metadata": {},
   "outputs": [
    {
     "name": "stdout",
     "output_type": "stream",
     "text": [
      "He\n"
     ]
    }
   ],
   "source": [
    "# Berilgan so'zni dastlabki 2ta harfidan iborat so'z tuzing agar 2 tadan kam bo'lsa $ belgisini ishlating agar so'z \" \" dan iborat bo'lsa $$ belgisini ishlating\n",
    "\n",
    "word=\"Hello!\"\n",
    "if len(word)>=2:\n",
    "    print((word)[:2])\n",
    "elif len(word)==1:\n",
    "    print((word)+\"$\")\n",
    "elif len(word)==\"\":\n",
    "    print((word)+\"$$\")      "
   ]
  },
  {
   "cell_type": "code",
   "execution_count": 17,
   "metadata": {},
   "outputs": [
    {
     "name": "stdout",
     "output_type": "stream",
     "text": [
      "Ushbu berilgan uchburchak tomonlari 3.0 sm, 4.0 sm, 5.0 sm ga teng bo'lgan to'g'ri burchakli uchburchak hisoblanadi \n"
     ]
    }
   ],
   "source": [
    "# Berilgan uchburchak teng tomonli teng yonli va to'g'ri burchakli uchburchak bo'ladi\n",
    "\n",
    "a=float(input(\"Uchburchakning 1-tomonini kriting: \"))\n",
    "b=float(input(\"Uchburchakning 2-tomonini kriting: \"))\n",
    "c=float(input(\"Uchburchakning 3-tomonini kriting: \"))\n",
    "if a+b>c and a+c>b and b+c>a:\n",
    "    if a==b==c:\n",
    "        print(f\"Ushbu berilgan uchburchak hamma tomonlari {a} sm ga teng bo'gan teng tomonli uchburchak hisoblanadi\")\n",
    "    elif a==b or a==c or b==c: \n",
    "        print(\"Ushbu berilgan uchburchak teng yonli uchburchak hisoblanadi\")\n",
    "    elif pow(a,2)+pow(b,2)==pow(c,2) or pow(a,2)+pow(c,2)==pow(b,2) or pow(c,2)+pow(b,2)==pow(a,2):\n",
    "        print(f\"Ushbu berilgan uchburchak tomonlari {a} sm, {b} sm, {c} sm ga teng bo'lgan to'g'ri burchakli uchburchak hisoblanadi \")\n",
    "    else:\n",
    "        print(\"Ushbu berilgan uchburchak  oddiy uchburchak hisoblanadi\")\n",
    "else:   \n",
    "    print(\"Bu uchburchak bo'la olmaydi!\")"
   ]
  }
 ],
 "metadata": {
  "kernelspec": {
   "display_name": "Python 3",
   "language": "python",
   "name": "python3"
  },
  "language_info": {
   "codemirror_mode": {
    "name": "ipython",
    "version": 3
   },
   "file_extension": ".py",
   "mimetype": "text/x-python",
   "name": "python",
   "nbconvert_exporter": "python",
   "pygments_lexer": "ipython3",
   "version": "3.12.0"
  }
 },
 "nbformat": 4,
 "nbformat_minor": 2
}
