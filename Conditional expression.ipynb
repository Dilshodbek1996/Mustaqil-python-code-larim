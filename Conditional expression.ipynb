{
 "cells": [
  {
   "cell_type": "markdown",
   "metadata": {},
   "source": [
    "# A one-line short cut for the IF-ELSE \n",
    "# X if condition else Y ---- formula"
   ]
  },
  {
   "cell_type": "code",
   "execution_count": 1,
   "metadata": {},
   "outputs": [
    {
     "name": "stdout",
     "output_type": "stream",
     "text": [
      "Adult\n"
     ]
    }
   ],
   "source": [
    "age=28\n",
    "user=\"Adult\" if age>=18 else \"Child\"\n",
    "print(user)"
   ]
  },
  {
   "cell_type": "code",
   "execution_count": 3,
   "metadata": {},
   "outputs": [
    {
     "name": "stdout",
     "output_type": "stream",
     "text": [
      "98\n"
     ]
    }
   ],
   "source": [
    "a=78\n",
    "b=98\n",
    "max_number=a if a>b else b\n",
    "print(max_number)"
   ]
  },
  {
   "cell_type": "code",
   "execution_count": 15,
   "metadata": {},
   "outputs": [
    {
     "name": "stdout",
     "output_type": "stream",
     "text": [
      "Positive\n"
     ]
    }
   ],
   "source": [
    "x=7.8\n",
    "natural_son=False\n",
    "print(\"Positive\" if x>0 and not natural_son else \"Negative\")"
   ]
  },
  {
   "cell_type": "code",
   "execution_count": 10,
   "metadata": {},
   "outputs": [
    {
     "name": "stdout",
     "output_type": "stream",
     "text": [
      "HOT🥵\n"
     ]
    }
   ],
   "source": [
    "temperature=20\n",
    "is_sunny=False\n",
    "weather=\"HOT🥵\" if temperature>=20  or is_sunny else \"WARM😎\"\n",
    "print(weather)"
   ]
  },
  {
   "cell_type": "code",
   "execution_count": 9,
   "metadata": {},
   "outputs": [
    {
     "name": "stdout",
     "output_type": "stream",
     "text": [
      "Can not apply\n"
     ]
    }
   ],
   "source": [
    "age=25\n",
    "has_bachelor_diplom=False\n",
    "for_master=\"Can apply\" if age>=22 and has_bachelor_diplom else \"Can not apply\"\n",
    "print(for_master)"
   ]
  },
  {
   "cell_type": "markdown",
   "metadata": {},
   "source": [
    "# String data type bilan ishlash"
   ]
  },
  {
   "cell_type": "code",
   "execution_count": 21,
   "metadata": {},
   "outputs": [
    {
     "name": "stdout",
     "output_type": "stream",
     "text": [
      "Oh sorry. You must enter less than 12 charecters \n"
     ]
    }
   ],
   "source": [
    "# username is no more than 12 characters and must more than 8 charecters\n",
    "\n",
    "user_name=input(\"Enter any user name: \")\n",
    "if len(user_name)>=8 and len(user_name)<=12:\n",
    "    print(\"Done!\")\n",
    "elif len(user_name)>12:\n",
    "    print(\"Oh sorry. You must enter less than 12 charecters \")    \n",
    "else:\n",
    "    print(\"Pleae enter more than 8 cheracters\")    "
   ]
  },
  {
   "cell_type": "code",
   "execution_count": 19,
   "metadata": {},
   "outputs": [
    {
     "name": "stdout",
     "output_type": "stream",
     "text": [
      "No sorry. User_name must not be contain only numbers \n"
     ]
    }
   ],
   "source": [
    "\n",
    "# username must not contain digits and any spaces\n",
    "\n",
    "user_name=input(\"Enter any user name:\")\n",
    "if user_name.isalpha():\n",
    "    print(\"Done!\")\n",
    "elif user_name.isdigit():\n",
    "    print(\"No sorry. User_name must not be contain only numbers \")\n",
    "else:\n",
    "    print(\"Oh Sorry Please enter only words not numbers and spaces\")    "
   ]
  }
 ],
 "metadata": {
  "kernelspec": {
   "display_name": "Python 3",
   "language": "python",
   "name": "python3"
  },
  "language_info": {
   "codemirror_mode": {
    "name": "ipython",
    "version": 3
   },
   "file_extension": ".py",
   "mimetype": "text/x-python",
   "name": "python",
   "nbconvert_exporter": "python",
   "pygments_lexer": "ipython3",
   "version": "3.12.0"
  }
 },
 "nbformat": 4,
 "nbformat_minor": 2
}
