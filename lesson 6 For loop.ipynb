{
 "cells": [
  {
   "cell_type": "markdown",
   "metadata": {},
   "source": [
    "# For loop bilan ishlash"
   ]
  },
  {
   "cell_type": "code",
   "execution_count": 3,
   "metadata": {},
   "outputs": [
    {
     "name": "stdout",
     "output_type": "stream",
     "text": [
      "1\n",
      "2\n",
      "3\n",
      "4\n",
      "5\n",
      "6\n",
      "7\n",
      "8\n",
      "9\n",
      "10\n",
      "11\n",
      "12\n",
      "13\n",
      "14\n",
      "15\n",
      "16\n",
      "17\n",
      "18\n",
      "19\n",
      "20\n"
     ]
    }
   ],
   "source": [
    "# 1 dan 20 gacha bo'lgan sonlarni ketma ket ekranga chiqarish\n",
    "\n",
    "for i in range(1,21):\n",
    "    print(i)"
   ]
  },
  {
   "cell_type": "code",
   "execution_count": 3,
   "metadata": {},
   "outputs": [
    {
     "name": "stdout",
     "output_type": "stream",
     "text": [
      "10\n",
      "9\n",
      "8\n",
      "7\n",
      "6\n",
      "5\n",
      "4\n",
      "3\n",
      "2\n",
      "1\n"
     ]
    }
   ],
   "source": [
    "# 1 dan 10 gacha bolgan sonlarni teskari tartibda ekranga chiqarish\n",
    "\n",
    "for i in range(10, 0,-1):\n",
    "    print(i)"
   ]
  },
  {
   "cell_type": "code",
   "execution_count": 5,
   "metadata": {},
   "outputs": [
    {
     "name": "stdout",
     "output_type": "stream",
     "text": [
      "Toq son: 1 \n",
      "Juft son: 2 \n",
      "Toq son: 3 \n",
      "Juft son: 4 \n",
      "Toq son: 5 \n",
      "Juft son: 6 \n",
      "Toq son: 7 \n",
      "Juft son: 8 \n",
      "Toq son: 9 \n",
      "Juft son: 10 \n",
      "Toq son: 11 \n",
      "Juft son: 12 \n",
      "Toq son: 13 \n",
      "Juft son: 14 \n",
      "Toq son: 15 \n",
      "Juft son: 16 \n",
      "Toq son: 17 \n",
      "Juft son: 18 \n",
      "Toq son: 19 \n",
      "Juft son: 20 \n"
     ]
    }
   ],
   "source": [
    "# 1 dan 20 gacha bo'lgan  juft va toq sonlarni ketma ket ekranga chiqarish\n",
    "\n",
    "for i in range(1,21):\n",
    "    if i%2==0:\n",
    "        print(f\"Juft son: {i} \")\n",
    "    elif i%2!=0:\n",
    "        print(f\"Toq son: {i} \")  \n",
    "    else:\n",
    "        print(\"Xatolik aniqlandi\")    "
   ]
  },
  {
   "cell_type": "code",
   "execution_count": 18,
   "metadata": {},
   "outputs": [
    {
     "name": "stdout",
     "output_type": "stream",
     "text": [
      "Yig'indi: 210\n"
     ]
    }
   ],
   "source": [
    "# 1 dan 20 gacha bo'lgan sonlar yig'indisini ekranga chiqarish\n",
    "\n",
    "a=0\n",
    "for i in range(1,21):\n",
    "    a+=i\n",
    "print(f\"Yig'indi: {a}\")"
   ]
  },
  {
   "cell_type": "code",
   "execution_count": 56,
   "metadata": {},
   "outputs": [
    {
     "name": "stdout",
     "output_type": "stream",
     "text": [
      "Juft sonlar yig'indisi: 110\n"
     ]
    }
   ],
   "source": [
    "# 1 dan 20 gacha bo'lgan juft sonlar yigindisini ekranga chiqarish\n",
    "\n",
    "a=0\n",
    "for i in range(1,21):\n",
    "    if i%2==0:\n",
    "        a+=i \n",
    "print(f\"Juft sonlar yig'indisi: {a}\")        "
   ]
  },
  {
   "cell_type": "code",
   "execution_count": 80,
   "metadata": {},
   "outputs": [
    {
     "name": "stdout",
     "output_type": "stream",
     "text": [
      "15\n",
      "30\n",
      "45\n"
     ]
    }
   ],
   "source": [
    "# 1 dan 50 gacha bo'lgan sonlar ichida 3 ga ham 5 ga ham bo'linadigan sonlarni barchasini ekranga chiqaring\n",
    "\n",
    "for i in range(1,51):\n",
    "    if i%15==0:\n",
    "        print(i)"
   ]
  },
  {
   "cell_type": "code",
   "execution_count": 26,
   "metadata": {},
   "outputs": [
    {
     "name": "stdout",
     "output_type": "stream",
     "text": [
      "Yig'indi: 1683 \n"
     ]
    }
   ],
   "source": [
    "# 1 dan 100 gacha bo'lgan sonlar ichida 3 ga bo'linadigan sonlar yig'indisini toping\n",
    "a=0\n",
    "for i in range(1,100):\n",
    "    if i%3==0:\n",
    "        a+=i\n",
    "print(f\"Yig'indi: {a} \")    \n",
    "        "
   ]
  },
  {
   "cell_type": "code",
   "execution_count": 44,
   "metadata": {},
   "outputs": [
    {
     "name": "stdout",
     "output_type": "stream",
     "text": [
      "Juft sonlar ko'paytmasi: 3840 \n"
     ]
    }
   ],
   "source": [
    "# 1 dan 10 gacha bo'lgan juft sonlar ko'paytmasini toping\n",
    "\n",
    "a=1\n",
    "for i in range(1,11):\n",
    "    if i%2==0:\n",
    "        a*=i\n",
    "print(f\"Juft sonlar ko'paytmasi: {a} \")\n",
    " \n",
    "          "
   ]
  },
  {
   "cell_type": "code",
   "execution_count": 45,
   "metadata": {},
   "outputs": [
    {
     "name": "stdout",
     "output_type": "stream",
     "text": [
      "Toq sonlar ko'paytmasi: 945 \n"
     ]
    }
   ],
   "source": [
    "# 1 dan 10 gacha bo'lgan toq sonlar ko'paytmasini toping\n",
    "\n",
    "a=1\n",
    "for i in range(1,11):\n",
    "    if i%2!=0:\n",
    "        a*=i\n",
    "print(f\"Toq sonlar ko'paytmasi: {a} \")"
   ]
  },
  {
   "cell_type": "markdown",
   "metadata": {},
   "source": [
    "# Listlar bilan ishlash"
   ]
  },
  {
   "cell_type": "code",
   "execution_count": 6,
   "metadata": {},
   "outputs": [
    {
     "name": "stdout",
     "output_type": "stream",
     "text": [
      "[56, 'hello', 78, True]\n"
     ]
    }
   ],
   "source": [
    "a=[67,23,56,'hello', 78, True, -4, 3.56]\n",
    "print(a[2:6])"
   ]
  },
  {
   "cell_type": "code",
   "execution_count": 15,
   "metadata": {},
   "outputs": [
    {
     "name": "stdout",
     "output_type": "stream",
     "text": [
      "(32, 21, 67, 13, 7)\n",
      "[32, 21, 67, 13, 7]\n"
     ]
    },
    {
     "data": {
      "text/plain": [
       "{7, 13, 21, 32, 67}"
      ]
     },
     "execution_count": 15,
     "metadata": {},
     "output_type": "execute_result"
    }
   ],
   "source": [
    "a=(32,21,67,13,7) # list\n",
    "b=[32,21,67,13,7] # tuple\n",
    "c={32,21,21,67,13,7} # dict\n",
    "print(a)\n",
    "print(b)\n",
    "c"
   ]
  },
  {
   "cell_type": "code",
   "execution_count": 17,
   "metadata": {},
   "outputs": [
    {
     "name": "stdout",
     "output_type": "stream",
     "text": [
      "[1, 3, 5, 7]\n"
     ]
    }
   ],
   "source": [
    "a=[1,3,5]\n",
    "a.append(7)\n",
    "print(a)\n"
   ]
  },
  {
   "cell_type": "code",
   "execution_count": 18,
   "metadata": {},
   "outputs": [
    {
     "data": {
      "text/plain": [
       "[1, 3, 5, 7]"
      ]
     },
     "execution_count": 18,
     "metadata": {},
     "output_type": "execute_result"
    }
   ],
   "source": [
    "a"
   ]
  },
  {
   "cell_type": "code",
   "execution_count": 19,
   "metadata": {},
   "outputs": [
    {
     "data": {
      "text/plain": [
       "7"
      ]
     },
     "execution_count": 19,
     "metadata": {},
     "output_type": "execute_result"
    }
   ],
   "source": [
    "a.pop()"
   ]
  },
  {
   "cell_type": "code",
   "execution_count": 20,
   "metadata": {},
   "outputs": [
    {
     "data": {
      "text/plain": [
       "[1, 3, 5]"
      ]
     },
     "execution_count": 20,
     "metadata": {},
     "output_type": "execute_result"
    }
   ],
   "source": [
    "a"
   ]
  }
 ],
 "metadata": {
  "kernelspec": {
   "display_name": "Python 3",
   "language": "python",
   "name": "python3"
  },
  "language_info": {
   "codemirror_mode": {
    "name": "ipython",
    "version": 3
   },
   "file_extension": ".py",
   "mimetype": "text/x-python",
   "name": "python",
   "nbconvert_exporter": "python",
   "pygments_lexer": "ipython3",
   "version": "3.12.0"
  }
 },
 "nbformat": 4,
 "nbformat_minor": 2
}
