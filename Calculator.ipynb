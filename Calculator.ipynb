{
 "cells": [
  {
   "cell_type": "markdown",
   "metadata": {},
   "source": [
    " ENG SODDA CALCULATOR YASASH CODI"
   ]
  },
  {
   "cell_type": "code",
   "execution_count": 1,
   "metadata": {},
   "outputs": [
    {
     "name": "stdout",
     "output_type": "stream",
     "text": [
      "Natija: 6561.0\n"
     ]
    }
   ],
   "source": [
    "amal=input('Nima qilamiz?  (+,-,*,/,**)  ')\n",
    "\n",
    "a=float(input(\"Brinchi raqamni kriting: \"))\n",
    "b=float(input(\"Ikkinchi raqamni  kriting: \"))\n",
    "\n",
    "if amal==\"+\":\n",
    "    c=a+b\n",
    "    print(\"Natija: \"+str(c))\n",
    "elif amal==\"-\":\n",
    "    c=a-b\n",
    "    print(\"Natija: \"+str(c))\n",
    "elif amal==\"*\":\n",
    "    c=a*b\n",
    "    print(\"Natija: \"+str(c))\n",
    "elif amal==\"/\":\n",
    "    c=a/b\n",
    "    print(\"Natija: \"+str(c))\n",
    "elif amal==\"**\":\n",
    "    c=a**b\n",
    "    print(\"Natija: \"+str(c))\n",
    "else:\n",
    "    print(\"Noto'g'ri amal kritildi\")\n"
   ]
  }
 ],
 "metadata": {
  "kernelspec": {
   "display_name": "Python 3",
   "language": "python",
   "name": "python3"
  },
  "language_info": {
   "codemirror_mode": {
    "name": "ipython",
    "version": 3
   },
   "file_extension": ".py",
   "mimetype": "text/x-python",
   "name": "python",
   "nbconvert_exporter": "python",
   "pygments_lexer": "ipython3",
   "version": "3.12.0"
  }
 },
 "nbformat": 4,
 "nbformat_minor": 2
}
